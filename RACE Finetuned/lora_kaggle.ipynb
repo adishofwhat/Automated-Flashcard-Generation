{
  "nbformat": 4,
  "nbformat_minor": 0,
  "metadata": {
    "colab": {
      "provenance": []
    },
    "kernelspec": {
      "name": "python3",
      "display_name": "Python 3"
    },
    "language_info": {
      "name": "python"
    }
  },
  "cells": [
    {
      "cell_type": "code",
      "execution_count": null,
      "metadata": {
        "id": "jhu64giPyZk3"
      },
      "outputs": [],
      "source": [
        "# pip install peft"
      ]
    },
    {
      "cell_type": "code",
      "source": [
        "from transformers import AutoTokenizer, AutoModelForSeq2SeqLM, Seq2SeqTrainer, Seq2SeqTrainingArguments, DataCollatorForSeq2Seq,  EarlyStoppingCallback\n",
        "import torch\n",
        "from torch.utils.data import Dataset\n",
        "from peft import LoraConfig, get_peft_model\n",
        "import pandas as pd"
      ],
      "metadata": {
        "id": "dcuyP5csycoz"
      },
      "execution_count": null,
      "outputs": []
    },
    {
      "cell_type": "code",
      "source": [
        "model_name = \"potsawee/t5-large-generation-race-QuestionAnswer\"\n",
        "tokenizer = AutoTokenizer.from_pretrained(model_name)\n",
        "model = AutoModelForSeq2SeqLM.from_pretrained(model_name)\n",
        "\n",
        "# Define LoRA configuration\n",
        "lora_config = LoraConfig(\n",
        "    r=16,  # Rank of low-rank matrices\n",
        "    lora_alpha=32,  # Scaling factor\n",
        "    target_modules=[\"q\", \"v\"],  # Fine-tune attention layers\n",
        "    lora_dropout=0.1,\n",
        "    bias=\"none\"\n",
        ")"
      ],
      "metadata": {
        "id": "T4xOLUslydpm"
      },
      "execution_count": null,
      "outputs": []
    },
    {
      "cell_type": "code",
      "source": [
        "# Apply LoRA to the model\n",
        "model = get_peft_model(model, lora_config)\n",
        "\n",
        "# Check trainable parameters\n",
        "model.print_trainable_parameters()"
      ],
      "metadata": {
        "id": "8Z9nok4myfUO"
      },
      "execution_count": null,
      "outputs": []
    },
    {
      "cell_type": "code",
      "source": [
        "model.config.ignore_pad_token_for_loss = True"
      ],
      "metadata": {
        "id": "-8AU24YZyhKh"
      },
      "execution_count": null,
      "outputs": []
    },
    {
      "cell_type": "code",
      "source": [
        "# Load dataset using pandas\n",
        "splits = {\n",
        "    'train': 'data/train-00000-of-00001.parquet',\n",
        "    'validation': 'data/validation-00000-of-00001.parquet',\n",
        "    'test': 'data/test-00000-of-00001.parquet'\n",
        "}\n",
        "train_df = pd.read_parquet(\"hf://datasets/allenai/sciq/\" + splits[\"train\"])\n",
        "validation_df = pd.read_parquet(\n",
        "    \"hf://datasets/allenai/sciq/\" + splits[\"validation\"])"
      ],
      "metadata": {
        "id": "JZm24XrEyjEt"
      },
      "execution_count": null,
      "outputs": []
    },
    {
      "cell_type": "code",
      "source": [
        "def preprocess_function(df):\n",
        "    inputs = df[\"support\"].tolist()\n",
        "    targets = [q + \" <sep> \" + a for q,\n",
        "               a in zip(df[\"question\"], df[\"correct_answer\"])]\n",
        "    model_inputs = tokenizer(inputs, max_length=512,\n",
        "                             truncation=True, padding=\"max_length\")\n",
        "    labels = tokenizer(targets, max_length=128,\n",
        "                       truncation=True, padding=\"max_length\")\n",
        "    model_inputs[\"labels\"] = labels[\"input_ids\"]\n",
        "    return model_inputs\n",
        "\n",
        "\n",
        "train_data = preprocess_function(train_df)\n",
        "validation_data = preprocess_function(validation_df)"
      ],
      "metadata": {
        "id": "HX3shG9iyjAs"
      },
      "execution_count": null,
      "outputs": []
    },
    {
      "cell_type": "code",
      "source": [
        "class SciQDataset(Dataset):\n",
        "    def __init__(self, encodings):\n",
        "        self.encodings = encodings\n",
        "\n",
        "    def __len__(self):\n",
        "        return len(self.encodings[\"input_ids\"])\n",
        "\n",
        "    def __getitem__(self, idx):\n",
        "        return {key: torch.tensor(val[idx]) for key, val in self.encodings.items()}\n",
        "\n",
        "\n",
        "train_dataset = SciQDataset(train_data)\n",
        "validation_dataset = SciQDataset(validation_data)"
      ],
      "metadata": {
        "id": "8VgoU3y4ymhz"
      },
      "execution_count": null,
      "outputs": []
    },
    {
      "cell_type": "code",
      "source": [
        "early_stopping_callback = EarlyStoppingCallback(early_stopping_patience=2)\n",
        "\n",
        "training_args = Seq2SeqTrainingArguments(\n",
        "    output_dir=\"./t5_lora_sciq\",\n",
        "    evaluation_strategy=\"epoch\",\n",
        "    save_strategy=\"epoch\",\n",
        "    learning_rate=3e-4,\n",
        "    per_device_train_batch_size=4,\n",
        "    per_device_eval_batch_size=4,\n",
        "    num_train_epochs=6,\n",
        "    weight_decay=0.01,\n",
        "    save_total_limit=2,\n",
        "    predict_with_generate=True,\n",
        "    logging_dir=\"./logs\",\n",
        "    logging_steps=100,\n",
        "    fp16=True,\n",
        "    load_best_model_at_end=True,  # Add this line for early stopping\n",
        "    metric_for_best_model=\"eval_loss\",  # Specify which metric to use for selecting the best model\n",
        "    greater_is_better=False,\n",
        "    lr_scheduler_type=\"linear\",\n",
        "    warmup_steps=500,\n",
        "    label_names=[\"labels\"],\n",
        ")\n",
        "\n",
        "\n",
        "trainer = Seq2SeqTrainer(\n",
        "    model=model,\n",
        "    args=training_args,\n",
        "    train_dataset=train_dataset,\n",
        "    eval_dataset=validation_dataset,\n",
        "    tokenizer=tokenizer,\n",
        "    callbacks=[early_stopping_callback]  # Add early stopping callback\n",
        ")"
      ],
      "metadata": {
        "id": "JPJ0QHmMyoWc"
      },
      "execution_count": null,
      "outputs": []
    },
    {
      "cell_type": "code",
      "source": [
        "trainer.train()"
      ],
      "metadata": {
        "id": "p9N3NEtIyqe3"
      },
      "execution_count": null,
      "outputs": []
    },
    {
      "cell_type": "code",
      "source": [
        "model.save_pretrained(\"./t5_finetuned_sciq\")\n",
        "tokenizer.save_pretrained(\"./t5_finetuned_sciq\")"
      ],
      "metadata": {
        "id": "FJvWABBpyt7m"
      },
      "execution_count": null,
      "outputs": []
    },
    {
      "cell_type": "code",
      "source": [
        "!zip -r t5_finetuned_sciq.zip ./t5_finetuned_sciq\n",
        "from IPython.display import FileLink\n",
        "FileLink(r't5_finetuned_sciq.zip')"
      ],
      "metadata": {
        "id": "y8tmEeCqyv-3"
      },
      "execution_count": null,
      "outputs": []
    }
  ]
}