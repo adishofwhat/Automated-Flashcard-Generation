{
 "cells": [
  {
   "cell_type": "code",
   "execution_count": 1,
   "metadata": {
    "colab": {
     "base_uri": "https://localhost:8080/"
    },
    "id": "u7B8SOSZXTgP",
    "outputId": "deb063b9-9c52-4ccd-f9f0-2282f3b7791a"
   },
   "outputs": [
    {
     "name": "stderr",
     "output_type": "stream",
     "text": [
      "/Library/Frameworks/Python.framework/Versions/3.12/lib/python3.12/site-packages/tqdm/auto.py:21: TqdmWarning: IProgress not found. Please update jupyter and ipywidgets. See https://ipywidgets.readthedocs.io/en/stable/user_install.html\n",
      "  from .autonotebook import tqdm as notebook_tqdm\n",
      "/Library/Frameworks/Python.framework/Versions/3.12/lib/python3.12/site-packages/transformers/tokenization_utils_base.py:1601: FutureWarning: `clean_up_tokenization_spaces` was not set. It will be set to `True` by default. This behavior will be depracted in transformers v4.45, and will be then set to `False` by default. For more details check this issue: https://github.com/huggingface/transformers/issues/31884\n",
      "  warnings.warn(\n"
     ]
    },
    {
     "name": "stdout",
     "output_type": "stream",
     "text": [
      "trainable params: 4,718,592 || all params: 742,386,688 || trainable%: 0.6356\n"
     ]
    },
    {
     "name": "stderr",
     "output_type": "stream",
     "text": [
      "huggingface/tokenizers: The current process just got forked, after parallelism has already been used. Disabling parallelism to avoid deadlocks...\n",
      "To disable this warning, you can either:\n",
      "\t- Avoid using `tokenizers` before the fork if possible\n",
      "\t- Explicitly set the environment variable TOKENIZERS_PARALLELISM=(true | false)\n",
      "/Library/Frameworks/Python.framework/Versions/3.12/lib/python3.12/site-packages/transformers/training_args.py:1525: FutureWarning: `evaluation_strategy` is deprecated and will be removed in version 4.46 of 🤗 Transformers. Use `eval_strategy` instead\n",
      "  warnings.warn(\n"
     ]
    }
   ],
   "source": [
    "from transformers import AutoTokenizer, AutoModelForSeq2SeqLM\n",
    "from peft import LoraConfig, get_peft_model, PeftModel\n",
    "import pandas as pd\n",
    "import torch\n",
    "\n",
    "# Load the model and tokenizer\n",
    "model_name = \"potsawee/t5-large-generation-squad-QuestionAnswer\"\n",
    "tokenizer = AutoTokenizer.from_pretrained(model_name)\n",
    "model = AutoModelForSeq2SeqLM.from_pretrained(model_name)\n",
    "\n",
    "# Define LoRA configuration\n",
    "lora_config = LoraConfig(\n",
    "    r=16,  # Rank of low-rank matrices\n",
    "    lora_alpha=32,  # Scaling factor\n",
    "    target_modules=[\"q\", \"v\"],  # Fine-tune attention layers\n",
    "    lora_dropout=0.1,\n",
    "    bias=\"none\"\n",
    ")\n",
    "\n",
    "# Apply LoRA to the model\n",
    "model = get_peft_model(model, lora_config)\n",
    "\n",
    "# Check trainable parameters\n",
    "model.print_trainable_parameters()\n",
    "\n",
    "# Load dataset using pandas\n",
    "splits = {\n",
    "    'train': 'data/train-00000-of-00001.parquet',\n",
    "    'validation': 'data/validation-00000-of-00001.parquet',\n",
    "    'test': 'data/test-00000-of-00001.parquet'\n",
    "}\n",
    "train_df = pd.read_parquet(\"hf://datasets/allenai/sciq/\" + splits[\"train\"])\n",
    "validation_df = pd.read_parquet(\"hf://datasets/allenai/sciq/\" + splits[\"validation\"])\n",
    "\n",
    "# Tokenize dataset\n",
    "def preprocess_function(df):\n",
    "    inputs = df[\"support\"].tolist()\n",
    "    targets = [q + \" <sep> \" + a for q, a in zip(df[\"question\"], df[\"correct_answer\"])]\n",
    "    model_inputs = tokenizer(inputs, max_length=512, truncation=True, padding=\"max_length\")\n",
    "    labels = tokenizer(targets, max_length=128, truncation=True, padding=\"max_length\")\n",
    "    model_inputs[\"labels\"] = labels[\"input_ids\"]\n",
    "    return model_inputs\n",
    "\n",
    "train_data = preprocess_function(train_df)\n",
    "validation_data = preprocess_function(validation_df)\n",
    "\n",
    "# Convert to PyTorch dataset\n",
    "from torch.utils.data import Dataset\n",
    "\n",
    "class SciQDataset(Dataset):\n",
    "    def __init__(self, encodings):\n",
    "        self.encodings = encodings\n",
    "\n",
    "    def __len__(self):\n",
    "        return len(self.encodings[\"input_ids\"])\n",
    "\n",
    "    def __getitem__(self, idx):\n",
    "        return {key: torch.tensor(val[idx]) for key, val in self.encodings.items()}\n",
    "\n",
    "train_dataset = SciQDataset(train_data)\n",
    "validation_dataset = SciQDataset(validation_data)\n",
    "\n",
    "# Define training arguments\n",
    "from transformers import Seq2SeqTrainingArguments, Seq2SeqTrainer\n",
    "\n",
    "training_args = Seq2SeqTrainingArguments(\n",
    "    output_dir=\"./t5_lora_sciq\",\n",
    "    evaluation_strategy=\"epoch\",\n",
    "    learning_rate=3e-4,\n",
    "    per_device_train_batch_size=4,\n",
    "    per_device_eval_batch_size=4,\n",
    "    num_train_epochs=3,\n",
    "    weight_decay=0.01,\n",
    "    save_total_limit=2,\n",
    "    predict_with_generate=True,\n",
    "    logging_dir=\"./logs\",\n",
    "    logging_steps=100,\n",
    "    fp16=False,\n",
    "    report_to=\"none\"\n",
    ")\n",
    "\n",
    "# Define the trainer\n",
    "trainer = Seq2SeqTrainer(\n",
    "    model=model,\n",
    "    args=training_args,\n",
    "    train_dataset=train_dataset,\n",
    "    eval_dataset=validation_dataset,\n",
    "    tokenizer=tokenizer\n",
    ")\n"
   ]
  },
  {
   "cell_type": "code",
   "execution_count": 4,
   "metadata": {
    "colab": {
     "base_uri": "https://localhost:8080/",
     "height": 243
    },
    "id": "08lySo0-XVet",
    "outputId": "df1480ba-ae7d-4866-d61a-7dcbe28c4d70"
   },
   "outputs": [
    {
     "name": "stderr",
     "output_type": "stream",
     "text": [
      "Passing a tuple of `past_key_values` is deprecated and will be removed in Transformers v4.48.0. You should pass an instance of `EncoderDecoderCache` instead, e.g. `past_key_values=EncoderDecoderCache.from_legacy_cache(past_key_values)`.\n"
     ]
    },
    {
     "data": {
      "text/html": [
       "\n",
       "    <div>\n",
       "      \n",
       "      <progress value='8760' max='8760' style='width:300px; height:20px; vertical-align: middle;'></progress>\n",
       "      [8760/8760 3:53:45, Epoch 3/3]\n",
       "    </div>\n",
       "    <table border=\"1\" class=\"dataframe\">\n",
       "  <thead>\n",
       " <tr style=\"text-align: left;\">\n",
       "      <th>Epoch</th>\n",
       "      <th>Training Loss</th>\n",
       "      <th>Validation Loss</th>\n",
       "    </tr>\n",
       "  </thead>\n",
       "  <tbody>\n",
       "    <tr>\n",
       "      <td>1</td>\n",
       "      <td>0.174700</td>\n",
       "      <td>No log</td>\n",
       "    </tr>\n",
       "    <tr>\n",
       "      <td>2</td>\n",
       "      <td>0.174500</td>\n",
       "      <td>No log</td>\n",
       "    </tr>\n",
       "    <tr>\n",
       "      <td>3</td>\n",
       "      <td>0.158200</td>\n",
       "      <td>No log</td>\n",
       "    </tr>\n",
       "  </tbody>\n",
       "</table><p>"
      ],
      "text/plain": [
       "<IPython.core.display.HTML object>"
      ]
     },
     "metadata": {},
     "output_type": "display_data"
    },
    {
     "data": {
      "text/plain": [
       "TrainOutput(global_step=8760, training_loss=0.21424704109697038, metrics={'train_runtime': 14030.0211, 'train_samples_per_second': 2.497, 'train_steps_per_second': 0.624, 'total_flos': 7.636464145583309e+16, 'train_loss': 0.21424704109697038, 'epoch': 3.0})"
      ]
     },
     "execution_count": 4,
     "metadata": {},
     "output_type": "execute_result"
    }
   ],
   "source": [
    "# Train the model\n",
    "trainer.train()"
   ]
  },
  {
   "cell_type": "code",
   "execution_count": null,
   "metadata": {
    "colab": {
     "base_uri": "https://localhost:8080/"
    },
    "id": "mq9PzvXHYUTD",
    "outputId": "4ab50696-ea82-41ad-cc2a-f96a213ff930"
   },
   "outputs": [
    {
     "data": {
      "text/plain": [
       "('./t5_finetuned_sciq/tokenizer_config.json',\n",
       " './t5_finetuned_sciq/special_tokens_map.json',\n",
       " './t5_finetuned_sciq/spiece.model',\n",
       " './t5_finetuned_sciq/added_tokens.json',\n",
       " './t5_finetuned_sciq/tokenizer.json')"
      ]
     },
     "execution_count": 5,
     "metadata": {},
     "output_type": "execute_result"
    }
   ],
   "source": [
    "model.save_pretrained(\"./t5_squad_finetuned_sciq\")\n",
    "tokenizer.save_pretrained(\"./t5_squad_finetuned_sciq\")"
   ]
  },
  {
   "cell_type": "code",
   "execution_count": null,
   "metadata": {
    "colab": {
     "base_uri": "https://localhost:8080/"
    },
    "id": "_6i2jKbjNcZ9",
    "outputId": "ea51af88-82ce-4e42-a59d-761ffe75f0d3"
   },
   "outputs": [
    {
     "name": "stdout",
     "output_type": "stream",
     "text": [
      "  adding: t5_finetuned_sciq/ (stored 0%)\n",
      "  adding: t5_finetuned_sciq/tokenizer_config.json (deflated 95%)\n",
      "  adding: t5_finetuned_sciq/special_tokens_map.json (deflated 86%)\n",
      "  adding: t5_finetuned_sciq/tokenizer.json (deflated 74%)\n",
      "  adding: t5_finetuned_sciq/adapter_config.json (deflated 52%)\n",
      "  adding: t5_finetuned_sciq/README.md (deflated 66%)\n",
      "  adding: t5_finetuned_sciq/adapter_model.safetensors (deflated 7%)\n",
      "  adding: t5_finetuned_sciq/added_tokens.json (stored 0%)\n",
      "  adding: t5_finetuned_sciq/spiece.model (deflated 48%)\n"
     ]
    }
   ],
   "source": [
    "!zip -r t5_finetuned_sciq.zip ./t5_finetuned_sciq"
   ]
  },
  {
   "cell_type": "code",
   "execution_count": null,
   "metadata": {
    "colab": {
     "base_uri": "https://localhost:8080/",
     "height": 17
    },
    "id": "oEiNq4WZRWhl",
    "outputId": "59aad2fe-e12c-4f1e-9ecd-3333b56ba11b"
   },
   "outputs": [
    {
     "data": {
      "application/javascript": "\n    async function download(id, filename, size) {\n      if (!google.colab.kernel.accessAllowed) {\n        return;\n      }\n      const div = document.createElement('div');\n      const label = document.createElement('label');\n      label.textContent = `Downloading \"${filename}\": `;\n      div.appendChild(label);\n      const progress = document.createElement('progress');\n      progress.max = size;\n      div.appendChild(progress);\n      document.body.appendChild(div);\n\n      const buffers = [];\n      let downloaded = 0;\n\n      const channel = await google.colab.kernel.comms.open(id);\n      // Send a message to notify the kernel that we're ready.\n      channel.send({})\n\n      for await (const message of channel.messages) {\n        // Send a message to notify the kernel that we're ready.\n        channel.send({})\n        if (message.buffers) {\n          for (const buffer of message.buffers) {\n            buffers.push(buffer);\n            downloaded += buffer.byteLength;\n            progress.value = downloaded;\n          }\n        }\n      }\n      const blob = new Blob(buffers, {type: 'application/binary'});\n      const a = document.createElement('a');\n      a.href = window.URL.createObjectURL(blob);\n      a.download = filename;\n      div.appendChild(a);\n      a.click();\n      div.remove();\n    }\n  ",
      "text/plain": [
       "<IPython.core.display.Javascript object>"
      ]
     },
     "metadata": {},
     "output_type": "display_data"
    },
    {
     "data": {
      "application/javascript": "download(\"download_774eb4cd-1c3d-4fc4-9c43-1db11f92d1dd\", \"t5_finetuned_sciq.zip\", 18546124)",
      "text/plain": [
       "<IPython.core.display.Javascript object>"
      ]
     },
     "metadata": {},
     "output_type": "display_data"
    }
   ],
   "source": [
    "from google.colab import files\n",
    "files.download(\"t5_squad_finetuned_sciq.zip\")"
   ]
  },
  {
   "cell_type": "code",
   "execution_count": null,
   "metadata": {
    "id": "QL3siucgHYMQ"
   },
   "outputs": [],
   "source": [
    "from transformers import AutoTokenizer, AutoModelForSeq2SeqLM\n",
    "\n",
    "# Load the fine-tuned model and tokenizer\n",
    "model_dir = \"./t5_squad_finetuned_sciq\"\n",
    "tokenizer = AutoTokenizer.from_pretrained(model_dir)\n",
    "model = AutoModelForSeq2SeqLM.from_pretrained(model_dir)"
   ]
  },
  {
   "cell_type": "code",
   "execution_count": 3,
   "metadata": {},
   "outputs": [],
   "source": [
    "# Load test data\n",
    "test_df = pd.read_parquet(\"hf://datasets/allenai/sciq/\" + splits[\"test\"])\n",
    "\n",
    "# Tokenize the test dataset\n",
    "test_data = preprocess_function(test_df)\n",
    "\n",
    "# Convert to PyTorch dataset\n",
    "test_dataset = SciQDataset(test_data)"
   ]
  },
  {
   "cell_type": "code",
   "execution_count": 4,
   "metadata": {},
   "outputs": [
    {
     "name": "stdout",
     "output_type": "stream",
     "text": [
      "Prediction: Compounds that are capable of accepting electrons, such as o 2 or f2, are called what?oxidants\n",
      "Reference: Compounds that are capable of accepting electrons, such as o 2 or f2, are called what? oxidants\n",
      "\n",
      "Prediction: What is the term for a genetically exact copy of an organism? cloning\n",
      "Reference: What term in biotechnology means a genetically exact copy of an organism? clone\n",
      "\n",
      "Prediction: Vertebrata are characterized by the presence of a what? backbone\n",
      "Reference: Vertebrata are characterized by the presence of what? backbone\n",
      "\n",
      "Prediction: What is the height above or below sea level? elevation\n",
      "Reference: What is the height above or below sea level called? elevation\n",
      "\n",
      "Prediction: Tree rings, ice cores, and varves indicate the environmental conditions at the time they were made. environmental conditions\n",
      "Reference: Ice cores, varves and what else indicate the environmental conditions at the time of their creation? tree rings\n",
      "\n"
     ]
    }
   ],
   "source": [
    "from torch.utils.data import DataLoader\n",
    "\n",
    "# Define test DataLoader\n",
    "test_loader = DataLoader(test_dataset, batch_size=4)\n",
    "\n",
    "# Generate predictions\n",
    "model.eval()\n",
    "predictions = []\n",
    "references = []\n",
    "\n",
    "for batch in test_loader:\n",
    "    input_ids = batch[\"input_ids\"].to(\"cuda\") if torch.cuda.is_available() else batch[\"input_ids\"]\n",
    "    attention_mask = batch[\"attention_mask\"].to(\"cuda\") if torch.cuda.is_available() else batch[\"attention_mask\"]\n",
    "    \n",
    "    with torch.no_grad():\n",
    "        outputs = model.generate(input_ids, attention_mask=attention_mask, max_length=128)\n",
    "    \n",
    "    predictions.extend(tokenizer.batch_decode(outputs, skip_special_tokens=True))\n",
    "    references.extend(tokenizer.batch_decode(batch[\"labels\"], skip_special_tokens=True))\n",
    "\n",
    "# Compare predictions with references\n",
    "for pred, ref in zip(predictions[:5], references[:5]):\n",
    "    print(f\"Prediction: {pred}\")\n",
    "    print(f\"Reference: {ref}\\n\")"
   ]
  },
  {
   "cell_type": "code",
   "execution_count": 13,
   "metadata": {},
   "outputs": [
    {
     "name": "stdout",
     "output_type": "stream",
     "text": [
      "{'rouge1': 0.5156088212587002, 'rouge2': 0.3121115526052973, 'rougeL': 0.4490558848933188, 'rougeLsum': 0.4487582680075713}\n"
     ]
    }
   ],
   "source": [
    "import evaluate\n",
    "\n",
    "# Load the ROUGE metric\n",
    "rouge = evaluate.load(\"rouge\")\n",
    "\n",
    "# Compute the metric\n",
    "results = rouge.compute(predictions=predictions, references=references)\n",
    "\n",
    "print(results)"
   ]
  },
  {
   "cell_type": "code",
   "execution_count": 4,
   "metadata": {},
   "outputs": [],
   "source": [
    "import spacy\n",
    "\n",
    "# Load spaCy model\n",
    "nlp = spacy.load(\"en_core_web_sm\")\n",
    "\n",
    "# Example function to extract NER/POS features\n",
    "def add_ner_pos_tags(text):\n",
    "    doc = nlp(text)\n",
    "    ner_tags = [f\"{ent.text} ({ent.label_})\" for ent in doc.ents]\n",
    "    pos_tags = [f\"{token.text} ({token.pos_})\" for token in doc]\n",
    "    return \" \".join(ner_tags), \" \".join(pos_tags)\n",
    "\n",
    "# Apply to dataset\n",
    "test_df[\"ner_tags\"], test_df[\"pos_tags\"] = zip(*test_df[\"support\"].apply(add_ner_pos_tags))\n",
    "\n",
    "# Updated input combining NER/POS\n",
    "test_df[\"augmented_support\"] = test_df.apply(\n",
    "    lambda row: row[\"support\"] + \" \" + row[\"ner_tags\"] + \" \" + row[\"pos_tags\"], axis=1\n",
    ")"
   ]
  },
  {
   "cell_type": "code",
   "execution_count": null,
   "metadata": {},
   "outputs": [],
   "source": []
  }
 ],
 "metadata": {
  "accelerator": "GPU",
  "colab": {
   "gpuType": "T4",
   "provenance": []
  },
  "kernelspec": {
   "display_name": "Python 3",
   "name": "python3"
  },
  "language_info": {
   "codemirror_mode": {
    "name": "ipython",
    "version": 3
   },
   "file_extension": ".py",
   "mimetype": "text/x-python",
   "name": "python",
   "nbconvert_exporter": "python",
   "pygments_lexer": "ipython3",
   "version": "3.12.1"
  }
 },
 "nbformat": 4,
 "nbformat_minor": 0
}
