{
  "nbformat": 4,
  "nbformat_minor": 0,
  "metadata": {
    "colab": {
      "provenance": []
    },
    "kernelspec": {
      "name": "python3",
      "display_name": "Python 3"
    },
    "language_info": {
      "name": "python"
    }
  },
  "cells": [
    {
      "cell_type": "code",
      "execution_count": null,
      "metadata": {
        "id": "u9p38z-abR4B"
      },
      "outputs": [],
      "source": [
        "import pdfplumber\n",
        "from pdfminer.layout import LAParams\n",
        "import re\n",
        "import torch\n",
        "from transformers import AutoTokenizer, AutoModelForSeq2SeqLM, AutoModel\n",
        "from sklearn.metrics.pairwise import cosine_similarity"
      ]
    },
    {
      "cell_type": "code",
      "source": [
        "summarizer_tokenizer = AutoTokenizer.from_pretrained(\"facebook/bart-large-cnn\")\n",
        "summarizer_model = AutoModelForSeq2SeqLM.from_pretrained(\"facebook/bart-large-cnn\")\n",
        "\n",
        "finetuned_model_dir = \"\"\n",
        "\n",
        "qa_tokenizer = AutoTokenizer.from_pretrained(finetuned_model_dir)\n",
        "qa_model = AutoModelForSeq2SeqLM.from_pretrained(finetuned_model_dir)\n",
        "qa_model = PeftModel.from_pretrained(finetuned_model, finetuned_model_dir)"
      ],
      "metadata": {
        "id": "JtM-TvZlcP9R"
      },
      "execution_count": null,
      "outputs": []
    },
    {
      "cell_type": "code",
      "source": [
        "def extract_text_from_pdf(pdf_path):\n",
        "    laparams = LAParams(line_margin=0.1)  # Adjust line margin to help with word separation\n",
        "    with pdfplumber.open(pdf_path) as pdf:\n",
        "        text = \"\"\n",
        "        for page in pdf.pages:\n",
        "            text += page.extract_text(x_tolerance=2, y_tolerance=3, laparams=laparams)  # Fine-tune tolerances\n",
        "    return text\n",
        "\n",
        "def clean_text(text):\n",
        "    text = re.sub(r'\\s+', ' ', text)\n",
        "    text = re.sub(r'Page \\d+|Header text|Footer text', '', text)\n",
        "    return text.strip()\n",
        "\n",
        "def split_text_with_sentence_overlap(text, chunk_size=512):\n",
        "    sentences = re.split(r'(?<=[.!?]) +', text)\n",
        "    chunks = []\n",
        "    current_chunk = []\n",
        "    current_length = 0\n",
        "\n",
        "    for sentence in sentences:\n",
        "        sentence_length = len(sentence.split())\n",
        "\n",
        "        if current_length + sentence_length > chunk_size:\n",
        "            if current_chunk:\n",
        "                chunks.append(' '.join(current_chunk))\n",
        "                current_chunk = [current_chunk[-1]]\n",
        "                current_length = len(current_chunk[0].split())\n",
        "\n",
        "        current_chunk.append(sentence)\n",
        "        current_length += sentence_length\n",
        "\n",
        "    if current_chunk:\n",
        "        chunks.append(' '.join(current_chunk))\n",
        "\n",
        "    return chunks\n",
        "\n",
        "def summarize_text(text):\n",
        "    inputs = summarizer_tokenizer(text, return_tensors=\"pt\", truncation=True, max_length=1024)\n",
        "    summary_ids = summarizer_model.generate(inputs['input_ids'], max_length=250, min_length=40, length_penalty=2.0, num_beams=4, early_stopping=True)\n",
        "    return summarizer_tokenizer.decode(summary_ids[0], skip_special_tokens=True)\n",
        "\n",
        "def generate_qa(context):\n",
        "    inputs = qa_tokenizer(context, return_tensors=\"pt\")\n",
        "    outputs = qa_model.generate(**inputs, max_length=100)\n",
        "    qa = qa_tokenizer.decode(outputs[0], skip_special_tokens=False)\n",
        "    qa = qa.replace(tokenizer.pad_token, \"\").replace(tokenizer.eos_token, \"\")\n",
        "    question, answer = qa.split(tokenizer.sep_token)\n",
        "\n",
        "    return question, answer"
      ],
      "metadata": {
        "id": "mnIhV8O_cbMX"
      },
      "execution_count": null,
      "outputs": []
    },
    {
      "cell_type": "code",
      "source": [
        "pdf_path = 'D:/dell data/rutgers/data viz/assignment5/9.pdf'\n",
        "pdf_text = extract_text_from_pdf(pdf_path)\n",
        "cleaned_text = clean_text(pdf_text)\n",
        "sections = split_text_with_sentence_overlap(cleaned_text)"
      ],
      "metadata": {
        "id": "BtA8SXq0cdrD"
      },
      "execution_count": null,
      "outputs": []
    },
    {
      "cell_type": "code",
      "source": [
        "qa_results = []\n",
        "for section in sections:\n",
        "    summarized_section = summarize_text(section)\n",
        "    qa_pair = generate_qa(summarized_section)\n",
        "    qa_results.append({\"qa_pair\": qa_pair})"
      ],
      "metadata": {
        "id": "abCaLLSgdxZT"
      },
      "execution_count": null,
      "outputs": []
    },
    {
      "cell_type": "code",
      "source": [
        "for result in qa_results:\n",
        "    print(f\"QA Pair: {result['qa_pair']}\")\n",
        "    print(\"-\" * 50)"
      ],
      "metadata": {
        "id": "c25dckl-ewhf"
      },
      "execution_count": null,
      "outputs": []
    }
  ]
}